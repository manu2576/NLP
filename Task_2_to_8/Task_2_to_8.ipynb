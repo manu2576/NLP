{
 "cells": [
  {
   "cell_type": "code",
   "id": "initial_id",
   "metadata": {
    "collapsed": true,
    "ExecuteTime": {
     "end_time": "2024-09-09T18:48:22.482580Z",
     "start_time": "2024-09-09T18:48:21.194285Z"
    }
   },
   "source": [
    "import pandas as pd\n",
    "import re\n",
    "import spacy\n",
    "from nltk.corpus import cmudict\n",
    "import json\n",
    "from nltk.corpus import stopwords\n",
    "from tensorflow.keras.preprocessing.text import Tokenizer\n",
    "\n",
    "# Initialize Spacy and CMU dictionary\n",
    "nlp = spacy.load('en_core_web_sm')\n",
    "d = cmudict.dict()\n",
    "\n",
    "# Define functions\n",
    "def dot_removal_text(text):\n",
    "    return re.sub(r'(\\b\\w+)\\.(\\w+\\b)', r'\\1DOT\\2', text)\n",
    "\n",
    "def total_sentence(text):\n",
    "    dot_removed_text = dot_removal_text(text)\n",
    "    text_chunks = dot_removed_text.split('\\n')\n",
    "    total_sentences = 0\n",
    "    for chunk in text_chunks:\n",
    "        doc = nlp(chunk)\n",
    "        plaintext = \" \".join(token.text for token in doc)\n",
    "        split_sentences = plaintext.split('.')\n",
    "        for sentence in split_sentences:\n",
    "            sentence = sentence.strip()\n",
    "            if sentence:\n",
    "                sentence = sentence.replace('DOT', '.')\n",
    "                total_sentences += 1\n",
    "    return total_sentences\n",
    "\n",
    "def remove_stopwords(text):\n",
    "    stop_words = set(stopwords.words('english'))\n",
    "    cleaned_words = [word for word in text.split() if word.lower() not in stop_words]\n",
    "    return ' '.join(cleaned_words)\n",
    "\n",
    "def remove_punctuation(text):\n",
    "    return re.sub(r'[^\\w\\s]', '', text)\n",
    "\n",
    "def counts(text):\n",
    "    tokenizer = Tokenizer()\n",
    "    tokenizer.fit_on_texts([text])\n",
    "    total_words = len(tokenizer.word_index)\n",
    "    return total_words\n",
    "\n",
    "def calculate_average_word_character_length(total_sentences, total_words):\n",
    "    if total_sentences == 0:\n",
    "        return 0\n",
    "    return total_words / total_sentences\n",
    "\n",
    "def calculate_average_word_length(text):\n",
    "    words = text.split()\n",
    "    total_characters = sum(len(word) for word in words)\n",
    "    total_words = len(words)\n",
    "    if total_words == 0:\n",
    "        return 0\n",
    "    return total_characters / total_words\n",
    "\n",
    "def no_vowels(word):\n",
    "    word = word.lower()\n",
    "    if word in d:\n",
    "        syllable_count = [len([y for y in x if y[-1].isdigit()]) for x in d[word]]\n",
    "        counts = max(syllable_count)\n",
    "    else:\n",
    "        counts = 1\n",
    "    if word.endswith('es') or word.endswith('ed'):\n",
    "        if counts > 1:\n",
    "            counts -= 1\n",
    "    return counts\n",
    "\n",
    "def syllable_count_per_word(words):\n",
    "    syllable_counts = {}\n",
    "    for word in words:\n",
    "        syllable_counts[word] = no_vowels(word)\n",
    "    return syllable_counts\n",
    "\n",
    "def complex_word_count(syllable_counts):\n",
    "    count = 0\n",
    "    min_syllable = 2\n",
    "    for word, syllable_count in syllable_counts.items():\n",
    "        if isinstance(syllable_count, int) and syllable_count > min_syllable:\n",
    "            count += 1\n",
    "    return count\n",
    "\n",
    "def count_personal_pronouns(text):\n",
    "    pronouns_pattern = r'\\b(I|we|my|ours|us)\\b'\n",
    "    matches = re.findall(pronouns_pattern, text, re.IGNORECASE)\n",
    "    matches = [match for match in matches if match.lower() != 'us' or match.islower()]\n",
    "    return len(matches)"
   ],
   "outputs": [],
   "execution_count": 23
  },
  {
   "metadata": {
    "ExecuteTime": {
     "end_time": "2024-09-09T18:48:22.976506Z",
     "start_time": "2024-09-09T18:48:22.951987Z"
    }
   },
   "cell_type": "code",
   "source": [
    "# Initializing datasets\n",
    "dataset = pd.read_csv('/Users/mnu/Desktop/NLP_task/Web_scraping/web_scraped_data.csv')\n",
    "output_dataset = pd.read_csv('/Users/mnu/Desktop/NLP_task/Sentimental_Analysis/Output_Data_Structure.csv')"
   ],
   "id": "571b9f0c31e2d48c",
   "outputs": [],
   "execution_count": 24
  },
  {
   "metadata": {},
   "cell_type": "code",
   "source": [
    "for index, row in dataset.iterrows():\n",
    "    url_id = row['URL_ID']\n",
    "    article_text = row['article_text']\n",
    "    doc = nlp(article_text)\n",
    "    plaintext = \" \".join(token.text for token in doc)\n",
    "\n",
    "    dot_removed_text = dot_removal_text(plaintext)\n",
    "    total_sen = total_sentence(article_text)\n",
    "    stopwords_removed = remove_stopwords(article_text)\n",
    "    article_no_punctuation = remove_punctuation(stopwords_removed)\n",
    "    total_words = counts(article_no_punctuation)\n",
    "    average_word_length_value = calculate_average_word_length(article_no_punctuation)\n",
    "    syllable_words = syllable_count_per_word(article_no_punctuation.split())\n",
    "    complex_words = complex_word_count(syllable_words)\n",
    "    pronouns_count = count_personal_pronouns(article_text)\n",
    "\n",
    "    avg_word_length = average_word_length_value\n",
    "    Average_Sentence_Length = total_words / total_sen if total_sen > 0 else 0\n",
    "    Percentage_of_Complex_words = complex_words / total_words if total_words > 0 else 0\n",
    "    Fog_Index = 0.4 * (Average_Sentence_Length + Percentage_of_Complex_words)\n",
    "    syllable_words_str = json.dumps(syllable_words)\n",
    "    \n",
    "    output_dataset.loc[output_dataset['URL_ID'] == url_id, 'AVG SENTENCE LENGTH'] = Average_Sentence_Length\n",
    "    output_dataset.loc[output_dataset['URL_ID'] == url_id, 'PERCENTAGE OF COMPLEX WORDS'] = Percentage_of_Complex_words\n",
    "    output_dataset.loc[output_dataset['URL_ID'] == url_id, 'FOG INDEX'] = Fog_Index\n",
    "    output_dataset.loc[output_dataset['URL_ID'] == url_id, 'AVG NUMBER OF WORDS PER SENTENCE'] = Average_Sentence_Length\n",
    "    output_dataset.loc[output_dataset['URL_ID'] == url_id, 'COMPLEX WORD COUNT'] = complex_words\n",
    "    output_dataset.loc[output_dataset['URL_ID'] == url_id, 'WORD COUNT'] = total_words\n",
    "    output_dataset.loc[output_dataset['URL_ID'] == url_id, 'SYLLABLE PER WORD'] = syllable_words_str\n",
    "    output_dataset.loc[output_dataset['URL_ID'] == url_id, 'PERSONAL PRONOUNS'] = pronouns_count\n",
    "    output_dataset.loc[output_dataset['URL_ID'] == url_id, 'AVG WORD LENGTH'] = avg_word_length"
   ],
   "id": "f9958e3b9d840d38",
   "outputs": [],
   "execution_count": null
  },
  {
   "metadata": {
    "ExecuteTime": {
     "end_time": "2024-09-09T18:51:36.667685Z",
     "start_time": "2024-09-09T18:51:36.642693Z"
    }
   },
   "cell_type": "code",
   "source": "output_dataset.to_csv('/Users/mnu/Desktop/NLP_task/Task_2_to_8/final_output.csv', index=False)",
   "id": "3413097817a2c146",
   "outputs": [],
   "execution_count": 28
  },
  {
   "metadata": {},
   "cell_type": "code",
   "outputs": [],
   "execution_count": null,
   "source": "",
   "id": "d75c3701a905fc7f"
  }
 ],
 "metadata": {
  "kernelspec": {
   "display_name": "Python 3",
   "language": "python",
   "name": "python3"
  },
  "language_info": {
   "codemirror_mode": {
    "name": "ipython",
    "version": 2
   },
   "file_extension": ".py",
   "mimetype": "text/x-python",
   "name": "python",
   "nbconvert_exporter": "python",
   "pygments_lexer": "ipython2",
   "version": "2.7.6"
  }
 },
 "nbformat": 4,
 "nbformat_minor": 5
}
