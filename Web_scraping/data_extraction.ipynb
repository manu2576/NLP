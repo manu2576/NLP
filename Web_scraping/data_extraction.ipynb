{
 "cells": [
  {
   "metadata": {
    "ExecuteTime": {
     "end_time": "2024-09-08T20:32:41.109975Z",
     "start_time": "2024-09-08T20:32:39.436007Z"
    }
   },
   "cell_type": "code",
   "source": [
    "import requests\n",
    "from bs4 import BeautifulSoup\n",
    "import pandas as pd\n",
    "import re\n",
    "from textblob import TextBlob\n",
    "def extract_article_title_and_text(url):\n",
    "    headers = {\n",
    "        'User-Agent': 'Mozilla/5.0 (Windows NT 10.0; Win64; x64) AppleWebKit/537.36 (KHTML, like Gecko) Chrome/91.0.4472.124 Safari/537.36'\n",
    "    }\n",
    "    try:\n",
    "        response = requests.get(url, headers=headers)\n",
    "        response.raise_for_status()\n",
    "        \n",
    "        # Parse the content\n",
    "        soup = BeautifulSoup(response.content, 'html.parser')\n",
    "        \n",
    "        # Extract the title\n",
    "        title_element = soup.find('h1')\n",
    "        title = title_element.get_text().strip() if title_element else 'No Title Found'\n",
    "        \n",
    "        # Extract the main article text\n",
    "        content_div = soup.find('div', class_='td-post-content tagdiv-type')\n",
    "        if content_div:\n",
    "            article_text = content_div.getText()\n",
    "        else:\n",
    "            article_text = 'No Content Found'\n",
    "        \n",
    "        return title, article_text\n",
    "\n",
    "    except Exception as e:\n",
    "        print(f\"Error extracting article from {url}: {e}\")\n",
    "        return None, None     \n",
    "    \n",
    "def remove_url_gmails_no(text):\n",
    "    # Remove emails\n",
    "    text = re.sub(r'\\S+@\\S+', '', text)\n",
    "    # Remove URLs (http, https, www)\n",
    "    text = re.sub(r'http\\S+|www\\S+|https\\S+', '', text)\n",
    "    # Remove numbers\n",
    "    text = re.sub(r'\\d+', '', text)\n",
    "    return text\n",
    "\n",
    "def spelling_correction(text):\n",
    "    return TextBlob(text).correct().string\n",
    "# Load the input data\n",
    "url_data = pd.read_excel('/Users/mnu/Desktop/NLP_task/Provided_data/Input.xlsx')\n",
    "dataset = []\n",
    "\n",
    "# Process each URL\n",
    "for index, row in url_data.iterrows():\n",
    "    url_id = row['URL_ID']\n",
    "    url = row['URL']\n",
    "    try:\n",
    "        title, article_text = extract_article_title_and_text(url)\n",
    "        text = title + '\\n' +article_text\n",
    "        # Process the text\n",
    "        cleaned_text = remove_url_gmails_no(article_text)\n",
    "        corrected_text = spelling_correction(cleaned_text).lower()\n",
    "        if title is not None and article_text is not None:\n",
    "            dataset.append({'URL_ID': url_id,'article_text': corrected_text})\n",
    "        else:\n",
    "            print(f\"Skipping URL ID {url_id} due to extraction issues.\")\n",
    "    except Exception as e:\n",
    "        print(f\"Error processing URL ID {url_id}: {e}\")\n",
    "Dataset = pd.DataFrame(dataset)\n",
    "Dataset.to_csv('/Users/mnu/Desktop/NLP_task/Web_scraping/web_scraped_data.csv')"
   ],
   "id": "299674ce8f1febf9",
   "outputs": [],
   "execution_count": 1
  }
 ],
 "metadata": {
  "kernelspec": {
   "display_name": "Python 3",
   "language": "python",
   "name": "python3"
  },
  "language_info": {
   "codemirror_mode": {
    "name": "ipython",
    "version": 2
   },
   "file_extension": ".py",
   "mimetype": "text/x-python",
   "name": "python",
   "nbconvert_exporter": "python",
   "pygments_lexer": "ipython2",
   "version": "2.7.6"
  }
 },
 "nbformat": 4,
 "nbformat_minor": 5
}
